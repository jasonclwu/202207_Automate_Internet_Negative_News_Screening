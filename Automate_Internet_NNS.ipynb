{
 "cells": [
  {
   "cell_type": "code",
   "execution_count": 27,
   "metadata": {},
   "outputs": [
    {
     "data": {
      "text/plain": [
       "'4.3.0'"
      ]
     },
     "execution_count": 27,
     "metadata": {},
     "output_type": "execute_result"
    }
   ],
   "source": [
    "import selenium\n",
    "selenium.__version__"
   ]
  },
  {
   "cell_type": "code",
   "execution_count": 28,
   "metadata": {},
   "outputs": [],
   "source": [
    "# Basic module that allows us to operate Chrome with Python Code\n",
    "from selenium import webdriver\n",
    "\n",
    "# Modules for installing a \"programmable version\" of Chrome that is required by Selenium\n",
    "from webdriver_manager.chrome import ChromeDriverManager\n",
    "from selenium.webdriver.chrome.service import Service as ChromeService\n",
    "\n",
    "# Module for selecting HTML elements\n",
    "from selenium.webdriver.common.by import By"
   ]
  },
  {
   "cell_type": "code",
   "execution_count": 29,
   "metadata": {},
   "outputs": [
    {
     "name": "stdout",
     "output_type": "stream",
     "text": [
      "\n"
     ]
    }
   ],
   "source": [
    "service = ChromeService(ChromeDriverManager().install())\n",
    "options = webdriver.ChromeOptions()\n",
    "options.headless = True"
   ]
  },
  {
   "cell_type": "code",
   "execution_count": 30,
   "metadata": {},
   "outputs": [],
   "source": [
    "# Use for gathering and exporting search result information\n",
    "import pandas as pd\n",
    "\n",
    "# Use for removing Windows' reserved character in webpage's title for PDF export.\n",
    "import re\n",
    "\n",
    "# Use for controlling waiting time in web scraping\n",
    "import time\n",
    "\n",
    "# Use for exporting webpage to PDF\n",
    "from base64 import b64decode\n",
    "\n",
    "# Use for creating output directories\n",
    "from os import makedirs"
   ]
  },
  {
   "cell_type": "code",
   "execution_count": 31,
   "metadata": {},
   "outputs": [],
   "source": [
    "name = 'Bernard Madoff'\n",
    "keywords = ['money laundering','fraud','corruption','tax evasion','arrest','charge','convict']"
   ]
  },
  {
   "cell_type": "code",
   "execution_count": 32,
   "metadata": {},
   "outputs": [],
   "source": [
    "makedirs('output/summary/', exist_ok=True)\n",
    "\n",
    "driver = webdriver.Chrome(service=service, options=options)\n",
    "\n",
    "df_search_results = pd.DataFrame()\n",
    "\n",
    "for keyword_index, keyword in enumerate(keywords, start=1):\n",
    "\n",
    "    search_string = (name + ' ' + keyword).replace(' ','+')\n",
    "\n",
    "    driver.get(f'https://duckduckgo.com/?q={search_string}')\n",
    "\n",
    "    pdf_encoded = driver.execute_cdp_cmd('Page.printToPDF', {})\n",
    "\n",
    "    pdf_decoded = b64decode(pdf_encoded['data'], validate=True)\n",
    "\n",
    "    keyword_file_name = (str(keyword_index) + ' ' + keyword + '.pdf').replace(' ','_')\n",
    "\n",
    "    with open(f'output/summary/{keyword_file_name}', 'wb') as f:\n",
    "\n",
    "        f.write(pdf_decoded)\n",
    "\n",
    "    search_results = driver.find_elements(By.XPATH,'//article[@data-nrn]')\n",
    "\n",
    "    for result in search_results:\n",
    "\n",
    "        summary = {}\n",
    "\n",
    "        summary['name'] = name\n",
    "\n",
    "        summary['keyword'] = keyword\n",
    "\n",
    "        summary['title'] = result.find_element(By.XPATH,'./div/h2/a/span').text\n",
    "\n",
    "        summary['abstract'] = ' '.join([element.text for element in result.find_elements(By.XPATH,'./div/div/span')[1:]])\n",
    "\n",
    "        summary['url'] = result.find_element(By.XPATH,'./div/h2/a').get_attribute('href')\n",
    "\n",
    "        df_search_results = df_search_results.append(pd.DataFrame(summary, index=['0']), ignore_index=True)\n",
    "\n",
    "    time.sleep(5)\n",
    "\n",
    "df_search_results.index = range(1, len(df_search_results)+1)\n",
    "\n",
    "df_search_results.index.name = 'index'\n",
    "\n",
    "df_search_results['duplicated'] = df_search_results.duplicated(subset=['url'])\n",
    "\n",
    "driver.close()"
   ]
  },
  {
   "cell_type": "code",
   "execution_count": null,
   "metadata": {},
   "outputs": [],
   "source": [
    "makedirs('output/results/', exist_ok=True)\n",
    "\n",
    "driver = webdriver.Chrome(service=service, options=options)\n",
    "\n",
    "captured = []\n",
    "\n",
    "for result_index, result in df_search_results.to_dict(orient='index').items():\n",
    "\n",
    "    if result['duplicated'] == False:\n",
    "\n",
    "        try:\n",
    "\n",
    "            driver.get(result['url'])\n",
    "\n",
    "            pdf_encoded = driver.execute_cdp_cmd('Page.printToPDF', {})\n",
    "\n",
    "            pdf_decoded = b64decode(pdf_encoded['data'], validate=True)\n",
    "            \n",
    "            sterilized_title = re.sub('\\\\s+', ' ', re.sub('[^a-zA-Z0-9]', ' ', result['title']))\n",
    "\n",
    "            result_file_name = (str(result_index) + '_' + sterilized_title + '.pdf')\n",
    "            \n",
    "            with open(f'output/results/{result_file_name}', 'wb') as f:\n",
    "\n",
    "                f.write(pdf_decoded)\n",
    "\n",
    "            captured.append('Success')\n",
    "\n",
    "        except:\n",
    "\n",
    "            captured.append('Fail')\n",
    "\n",
    "    else:\n",
    "\n",
    "        captured.append('N/A')\n",
    "\n",
    "df_search_results['captured'] = captured\n",
    "\n",
    "df_search_results.to_excel('output/summary/search_summary.xlsx')\n",
    "\n",
    "driver.close()"
   ]
  }
 ],
 "metadata": {
  "kernelspec": {
   "display_name": "Python 3.8.5 ('base')",
   "language": "python",
   "name": "python3"
  },
  "language_info": {
   "codemirror_mode": {
    "name": "ipython",
    "version": 3
   },
   "file_extension": ".py",
   "mimetype": "text/x-python",
   "name": "python",
   "nbconvert_exporter": "python",
   "pygments_lexer": "ipython3",
   "version": "3.8.5"
  },
  "orig_nbformat": 4,
  "vscode": {
   "interpreter": {
    "hash": "ad2bdc8ecc057115af97d19610ffacc2b4e99fae6737bb82f5d7fb13d2f2c186"
   }
  }
 },
 "nbformat": 4,
 "nbformat_minor": 2
}
